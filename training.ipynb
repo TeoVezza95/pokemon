{
 "cells": [
  {
   "cell_type": "code",
   "execution_count": null,
   "metadata": {
    "scrolled": true
   },
   "outputs": [],
   "source": [
    "!pip install matplotlib\n",
    "!pip install seaborn"
   ]
  },
  {
   "cell_type": "code",
   "execution_count": null,
   "metadata": {},
   "outputs": [],
   "source": [
    "import pandas as pd\n",
    "pd.plotting.register_matplotlib_converters()\n",
    "import matplotlib.pyplot as plt\n",
    "%matplotlib inline\n",
    "import seaborn as sns\n",
    "from sklearn.ensemble import RandomForestClassifier\n",
    "from sklearn.preprocessing import StandardScaler"
   ]
  },
  {
   "cell_type": "code",
   "execution_count": null,
   "metadata": {},
   "outputs": [],
   "source": [
    "pokemon=pd.read_csv('pokemon.csv',index_col='#')\n",
    "vs=pd.read_csv('train.csv',index_col=0)\n",
    "vs2=pd.read_csv('test.csv',index_col=0)"
   ]
  },
  {
   "cell_type": "code",
   "execution_count": null,
   "metadata": {},
   "outputs": [],
   "source": [
    "plt.figure(figsize=(10,6))\n",
    "plt.title(\"Confronto stats Pokemon leggendario vs normale\")\n",
    "plt.ylabel(\"stats\")\n",
    "sns.barplot(x=pokemon['Legendary'], y=pokemon['HP']+pokemon['Attack']+pokemon['Defense']+pokemon['Sp. Atk']+pokemon['Sp. Def']+pokemon['Speed'])\n",
    "plt.figure(figsize=(10,6))\n",
    "plt.title(\"Confronto stats Pokemon di diverse generazioni\")\n",
    "plt.ylabel(\"stats\")\n",
    "sns.barplot(x=pokemon['Generation'], y=pokemon['HP']+pokemon['Attack']+pokemon['Defense']+pokemon['Sp. Atk']+pokemon['Sp. Def']+pokemon['Speed'])\n",
    "xs =  pokemon[pokemon['Legendary']==True]\n",
    "xs.reset_index(drop=True, inplace=True)\n",
    "sns.displot(data=xs['Generation'],kde=False)\n",
    "plt.xlabel(\"Generazione\")\n",
    "plt.ylabel(\"numero pokemon leggendari\")"
   ]
  },
  {
   "cell_type": "markdown",
   "metadata": {},
   "source": [
    "# E' dunque evidente la correlazione tra le statistiche di un pokemon e il suo essere leggendario. Tutti i pokemon leggendari hanno sempre avuto stats maggiorate rispetto ai pokemon normali, infatti il primo grafico evidenzia proprio questo. Da qui possiamo dunque procedere con l'eliminazione della feature 'Legendary' in quanto le statistiche (hp, atk,def,Sp.atk ecc) contengono già implicitamente questa informazione che non ci aggiungerebbe nessuna info utile. Discorso simile per le generazioni,infatti l'appartenenza ad una determinata generazione non incide in maniera determinante sulla 'forza' dei pokemon ad essa appartenenti, il secondo grafico ci mostra come le stats siano piuttosto equilibrate tra le varie generazioni. Nel terzo è mostrato il numero dei pokemon leggendari per ogni generazione e come si può vedere le generazioni con più stats del secondo grafico sono quelle che hanno anche più leggendari il che livella tutto ancor di più.\n"
   ]
  },
  {
   "cell_type": "code",
   "execution_count": null,
   "metadata": {},
   "outputs": [],
   "source": [
    "#eliminiamo dunque le colonne non utili\n",
    "pokemon=pokemon.drop('Legendary',1)\n",
    "pokemon=pokemon.drop('Generation',1)\n",
    "#avendo l'id ('#') il nome del pokemon è inutile\n",
    "pokemon=pokemon.drop('Name',1)\n",
    "#alcuni pokemon sono dotati di un solo tipo, per questo utilizziamo fillna \n",
    "#per assegnare a tutti i valori Nan del Type 2 lo stesso valore del Type 1\n",
    "#in modo da avere sempre due tipi. [fuoco/Nan]->[fuoco/fuoco]\n",
    "pokemon['Type 2']=pokemon['Type 2'].fillna(pokemon['Type 1'])\n",
    "#trasformiamo i valori dei Type in array OneHot\n",
    "y = pd.get_dummies(pd.Series(data=pokemon['Type 1'])).to_numpy().tolist()\n",
    "k = pd.get_dummies(pd.Series(data=pokemon['Type 2'])).to_numpy().tolist()\n",
    "x= pokemon.drop('Type 1', 1)\n",
    "x=x.drop('Type 2', 1)\n",
    "pokemon = pd.DataFrame(data = x, columns =x.columns)\n",
    "pokemon['Type 1'] = pd.Series(y).to_numpy()\n",
    "pokemon['Type 2'] = pd.Series(k).to_numpy()\n",
    "pokemon"
   ]
  },
  {
   "cell_type": "markdown",
   "metadata": {},
   "source": [
    "# 'terminato' con la modifica del dataframe pokemon bisogna ora unirlo al dataframe vs (combats). Iniziamo con prendere la lista degli id dei pokemon combattenti e creiamo un dizionario del dataframe pokemon da cui estraiamo le chiavi sottoforma di lista."
   ]
  },
  {
   "cell_type": "code",
   "execution_count": null,
   "metadata": {},
   "outputs": [],
   "source": [
    "lista= vs['First_pokemon'].tolist()\n",
    "lista2=vs['Second_pokemon'].tolist()\n",
    "dict=pokemon.to_dict()\n",
    "col=[]\n",
    "for i in dict.keys():\n",
    "    col.append(i)\n",
    "#iteriamo sulle chiavi del dizionario(le colonne del dataframe pokemon), inizializziamo 3 liste.\n",
    "for k in col:\n",
    "    new_col=[]\n",
    "    new_col2=[]\n",
    "    diff=[]\n",
    "    \n",
    "    for j in lista:\n",
    "        new_col.append(dict[k][j])\n",
    "    for w in lista2:   \n",
    "        new_col2.append(dict[k][w])    \n",
    "    if (k != 'Type 1') and (k!= 'Type 2'):\n",
    "        for z in range(len(new_col)):\n",
    "            diff.append(new_col[z]- new_col2[z])\n",
    "        vs['Diff: '+k] = pd.Series(diff,dtype='int32')\n",
    "    else:\n",
    "            vs['Pok 1: '+k] = pd.Series(new_col).to_numpy()\n",
    "            vs['Pok 2: '+k] = pd.Series(new_col2).to_numpy()\n",
    "#in sintesi,associamo in vs, tutte le  info dei pokemon tramite le chiavi del dizionario \n",
    "#e basandoci sull'id(di entrambi i pokemon combattenti) andiamo a calcolare la differenza \n",
    "#tra le statistiche dei due pokemon e invece riportando semplicemente i tipi per ognuno dei pokemon combattenti,\n",
    "#in questo modo abbiamo ridotto il numero di colonne del nostro dataframe a 13 \n",
    "#(senza differenza tra statistiche avremmo avuto 19 colonne)\n",
    "vs.head()"
   ]
  },
  {
   "cell_type": "markdown",
   "metadata": {},
   "source": [
    "# ora non ci resta che trasformare il valore 'winner' in un valore binario dove se il vincitore è il pokemon 1 allora winner sarà = 0 altrimenti con la vittoria del pokemon 2 winner sarà=1."
   ]
  },
  {
   "cell_type": "code",
   "execution_count": null,
   "metadata": {
    "scrolled": true
   },
   "outputs": [],
   "source": [
    "win=vs['Winner'].tolist()\n",
    "win_transform=[]\n",
    "for z in range(len(win)):\n",
    "        if win[z]==lista[z]:\n",
    "            win_transform.append(0)\n",
    "        else:\n",
    "            win_transform.append(1)\n",
    "vs= vs.drop('Winner',1)\n",
    "vs['Winner'] = pd.Series(win_transform)\n",
    "vs.head()"
   ]
  },
  {
   "cell_type": "markdown",
   "metadata": {},
   "source": [
    "# Stessa cosa va fatta anche per il test set"
   ]
  },
  {
   "cell_type": "code",
   "execution_count": null,
   "metadata": {},
   "outputs": [],
   "source": [
    "lista= vs2['First_pokemon'].tolist()\n",
    "lista2=vs2['Second_pokemon'].tolist()\n",
    "dict=pokemon.to_dict()\n",
    "col=[]\n",
    "for i in dict.keys():\n",
    "    col.append(i)\n",
    "\n",
    "for k in col:\n",
    "    new_col=[]\n",
    "    new_col2=[]\n",
    "    diff=[]\n",
    "    \n",
    "    for j in lista:\n",
    "        new_col.append(dict[k][j])\n",
    "    for w in lista2:   \n",
    "        new_col2.append(dict[k][w])    \n",
    "    if (k != 'Type 1') and (k!= 'Type 2'):\n",
    "        for z in range(len(new_col)):\n",
    "            diff.append(new_col[z]- new_col2[z])\n",
    "        vs2['Diff: '+k] = pd.Series(diff,dtype='int32')\n",
    "    else:\n",
    "            vs2['Pok 1: '+k] = pd.Series(new_col).to_numpy()\n",
    "            vs2['Pok 2: '+k] = pd.Series(new_col2).to_numpy()\n",
    "\n",
    "win=vs2['Winner'].tolist()\n",
    "win_transform=[]\n",
    "for z in range(len(win)):\n",
    "        if win[z]==lista[z]:\n",
    "            win_transform.append(0)\n",
    "        else:\n",
    "            win_transform.append(1)\n",
    "vs2= vs2.drop('Winner',1)\n",
    "vs2['Winner'] = pd.Series(win_transform)\n",
    "vs2.head()"
   ]
  },
  {
   "cell_type": "markdown",
   "metadata": {},
   "source": [
    "# separiamo ora il target della nostra previsione, ovvero winner, dai nostri train e test ed eliminiamo le ormai inutili colonne riguardanti l'id dei pokemon."
   ]
  },
  {
   "cell_type": "code",
   "execution_count": null,
   "metadata": {},
   "outputs": [],
   "source": [
    "y_train=vs['Winner']\n",
    "y_test=vs2['Winner']\n",
    "x_train=vs.drop('Winner',1)\n",
    "x_test=vs2.drop('Winner',1)\n",
    "x_train=x_train.drop('First_pokemon',1)\n",
    "x_test=x_test.drop('First_pokemon',1)\n",
    "final_train=x_train.drop('Second_pokemon',1)\n",
    "final_test=x_test.drop('Second_pokemon',1)\n",
    "final_train.to_csv('new_train.csv')\n",
    "final_test.to_csv('new_test.csv')\n",
    "x_train=pd.read_csv('new_train.csv',index_col=0)\n",
    "x_test=pd.read_csv('new_test.csv',index_col=0)"
   ]
  },
  {
   "cell_type": "markdown",
   "metadata": {},
   "source": [
    "# andiamo a rendere addestrabile il dataframe tramite trasformazione scalare e ad addestrare la rete tramite il classificatore RandomForest. Questo algo utilizza una media degli alberi decisionali(n_estimators) prodotti per avere così una stima molto più accurata rispetto ad un singolo albero decisionale che sarebbe molto impreciso."
   ]
  },
  {
   "cell_type": "code",
   "execution_count": null,
   "metadata": {},
   "outputs": [],
   "source": [
    "df1=pd.get_dummies(x_train)\n",
    "df2=pd.get_dummies(x_test)\n",
    "df1 = StandardScaler().fit_transform(df1)\n",
    "df2 = StandardScaler().fit_transform(df2)\n",
    "rfc = RandomForestClassifier(n_estimators=100).fit(df1,y_train)\n",
    "print(\"Test set predictions:\", rfc.predict(df2))\n",
    "print(\"Test set accuracy: {:.4f}\".format(rfc.score(df2, y_test)*100) +' %')"
   ]
  },
  {
   "cell_type": "markdown",
   "metadata": {},
   "source": [
    "# creiamo una lista in cui avremo il valore 0.0 se il classificatore ha sbagliato a predire e il valore e 1.0 se ha predetto correttamente. Il Grafico riassume tutto ciò."
   ]
  },
  {
   "cell_type": "code",
   "execution_count": null,
   "metadata": {},
   "outputs": [],
   "source": [
    "pred=rfc.predict(df2).tolist()\n",
    "true=y_test.tolist()\n",
    "bool_list=[]\n",
    "for i in range(len(true)):\n",
    "    if true[i]==pred[i]:\n",
    "        bool_list.append(1.0)\n",
    "    else:\n",
    "        bool_list.append(0.0)\n",
    "        \n",
    "sns.kdeplot(data=bool_list,shade=True)\n",
    "plt.title(\"distribuzione accuratezza\")\n",
    "plt.xlabel(\"accuracy: 0.0 errore, 1.0 corretto\")\n",
    "plt.ylabel(\"Densità\")\n",
    "plt.show()"
   ]
  },
  {
   "cell_type": "code",
   "execution_count": null,
   "metadata": {},
   "outputs": [],
   "source": []
  }
 ],
 "metadata": {
  "kernelspec": {
   "display_name": "Python 3",
   "language": "python",
   "name": "python3"
  },
  "language_info": {
   "codemirror_mode": {
    "name": "ipython",
    "version": 3
   },
   "file_extension": ".py",
   "mimetype": "text/x-python",
   "name": "python",
   "nbconvert_exporter": "python",
   "pygments_lexer": "ipython3",
   "version": "3.8.5"
  }
 },
 "nbformat": 4,
 "nbformat_minor": 4
}
