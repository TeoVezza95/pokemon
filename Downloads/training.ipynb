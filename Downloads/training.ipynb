{
 "cells": [
  {
   "cell_type": "code",
   "execution_count": 263,
   "metadata": {},
   "outputs": [
    {
     "name": "stdout",
     "output_type": "stream",
     "text": [
      "\u001b[33mWARNING: The directory '/Users/teo/Library/Caches/pip' or its parent directory is not owned or is not writable by the current user. The cache has been disabled. Check the permissions and owner of that directory. If executing pip with sudo, you may want sudo's -H flag.\u001b[0m\n",
      "Requirement already satisfied: scikit-learn in /Users/teo/anaconda3/lib/python3.8/site-packages (0.24.2)\n",
      "Requirement already satisfied: numpy>=1.13.3 in /Users/teo/anaconda3/lib/python3.8/site-packages (from scikit-learn) (1.19.2)\n",
      "Requirement already satisfied: threadpoolctl>=2.0.0 in /Users/teo/anaconda3/lib/python3.8/site-packages (from scikit-learn) (2.1.0)\n",
      "Requirement already satisfied: scipy>=0.19.1 in /Users/teo/anaconda3/lib/python3.8/site-packages (from scikit-learn) (1.5.2)\n",
      "Requirement already satisfied: joblib>=0.11 in /Users/teo/anaconda3/lib/python3.8/site-packages (from scikit-learn) (0.17.0)\n",
      "\u001b[33mWARNING: The directory '/Users/teo/Library/Caches/pip' or its parent directory is not owned or is not writable by the current user. The cache has been disabled. Check the permissions and owner of that directory. If executing pip with sudo, you may want sudo's -H flag.\u001b[0m\n",
      "Requirement already satisfied: matplotlib in /Users/teo/anaconda3/lib/python3.8/site-packages (3.3.2)\n",
      "Requirement already satisfied: cycler>=0.10 in /Users/teo/anaconda3/lib/python3.8/site-packages (from matplotlib) (0.10.0)\n",
      "Requirement already satisfied: certifi>=2020.06.20 in /Users/teo/anaconda3/lib/python3.8/site-packages (from matplotlib) (2020.6.20)\n",
      "Requirement already satisfied: pyparsing!=2.0.4,!=2.1.2,!=2.1.6,>=2.0.3 in /Users/teo/anaconda3/lib/python3.8/site-packages (from matplotlib) (2.4.7)\n",
      "Requirement already satisfied: python-dateutil>=2.1 in /Users/teo/anaconda3/lib/python3.8/site-packages (from matplotlib) (2.8.1)\n",
      "Requirement already satisfied: kiwisolver>=1.0.1 in /Users/teo/anaconda3/lib/python3.8/site-packages (from matplotlib) (1.3.0)\n",
      "Requirement already satisfied: pillow>=6.2.0 in /Users/teo/anaconda3/lib/python3.8/site-packages (from matplotlib) (8.0.1)\n",
      "Requirement already satisfied: numpy>=1.15 in /Users/teo/anaconda3/lib/python3.8/site-packages (from matplotlib) (1.19.2)\n",
      "Requirement already satisfied: six in /Users/teo/anaconda3/lib/python3.8/site-packages (from cycler>=0.10->matplotlib) (1.15.0)\n"
     ]
    }
   ],
   "source": [
    "!pip install scikit-learn\n",
    "!pip install matplotlib"
   ]
  },
  {
   "cell_type": "code",
   "execution_count": 261,
   "metadata": {},
   "outputs": [],
   "source": [
    "from sklearn.ensemble import RandomForestClassifier\n",
    "from sklearn.preprocessing import StandardScaler\n",
    "from sklearn.neighbors import KNeighborsClassifier\n",
    "from sklearn import svm\n",
    "import pandas as pd\n",
    "import numpy as np\n",
    "%matplotlib inline\n",
    "import matplotlib.pyplot as plt"
   ]
  },
  {
   "cell_type": "code",
   "execution_count": null,
   "metadata": {},
   "outputs": [],
   "source": []
  },
  {
   "cell_type": "code",
   "execution_count": 166,
   "metadata": {},
   "outputs": [],
   "source": [
    "train=pd.read_csv('train.csv',index_col=0)\n",
    "test=pd.read_csv('test.csv',index_col=0)\n",
    "#rimuoviamo la colonna relativa all'id\n",
    "train=train.drop('customerID',1)\n",
    "test=test.drop('customerID',1)\n",
    "#dividiamo il nostro target(Churn)dai rispettivi train e  test\n",
    "y_train=train['Churn']\n",
    "y_test=test['Churn']\n",
    "x_train=train.drop('Churn',1)\n",
    "x_test=test.drop('Churn',1)\n",
    "#trasformiamo i dati in scalari che possano essere utilizzati dal nostro sistema\n",
    "df1 = pd.get_dummies(x_train)\n",
    "df2=pd.get_dummies(x_test)\n",
    "df1 = StandardScaler().fit_transform(df1)\n",
    "df2 = StandardScaler().fit_transform(df2)"
   ]
  },
  {
   "cell_type": "markdown",
   "metadata": {},
   "source": [
    "# sono stati fatti diversi test con vari classificatori, quello che ha dato risultati migliori è stato il randomforest, seguito con pochissimo scarto dalla support vector machine e infine dalla knn."
   ]
  },
  {
   "cell_type": "code",
   "execution_count": 277,
   "metadata": {},
   "outputs": [
    {
     "name": "stdout",
     "output_type": "stream",
     "text": [
      "Test set predictions: ['[1, 0]' '[1, 0]' '[1, 0]' ... '[1, 0]' '[1, 0]' '[0, 1]']\n",
      "Test set accuracy: 81.7742 %\n"
     ]
    }
   ],
   "source": [
    "rfc = RandomForestClassifier(max_depth=9, random_state=0).fit(df1,y_train)\n",
    "print(\"Test set predictions:\", rfc.predict(df2))\n",
    "#print(\"Training set accuracy: {:.2f}\".format(clf.score(df1, y_train)))\n",
    "print(\"Test set accuracy: {:.4f}\".format(rfc.score(df2, y_test)*100) +' %')"
   ]
  },
  {
   "cell_type": "code",
   "execution_count": 278,
   "metadata": {},
   "outputs": [
    {
     "name": "stdout",
     "output_type": "stream",
     "text": [
      "Test set predictions: ['[1, 0]' '[1, 0]' '[1, 0]' ... '[1, 0]' '[1, 0]' '[0, 1]']\n",
      "Test set accuracy: 80.4301 %\n"
     ]
    }
   ],
   "source": [
    "sv=svm.SVC(C=1).fit(df1,y_train)\n",
    "print(\"Test set predictions:\", sv.predict(df2))\n",
    "#print(\"Training set accuracy: {:.2f}\".format(clf.score(df1, y_train)))\n",
    "print(\"Test set accuracy: {:.4f}\".format(sv.score(df2, y_test)*100) +' %')"
   ]
  },
  {
   "cell_type": "code",
   "execution_count": 276,
   "metadata": {},
   "outputs": [
    {
     "name": "stdout",
     "output_type": "stream",
     "text": [
      "Test set predictions: ['[1, 0]' '[1, 0]' '[1, 0]' ... '[1, 0]' '[1, 0]' '[0, 1]']\n",
      "Test set accuracy: 78.6559 %\n"
     ]
    }
   ],
   "source": [
    "neigh = KNeighborsClassifier(n_neighbors=9).fit(df1,y_train)\n",
    "print(\"Test set predictions:\", neigh.predict(df2))\n",
    "#print(\"Training set accuracy: {:.2f}\".format(clf.score(df1, y_train)))\n",
    "print(\"Test set accuracy: {:.4f}\".format(neigh.score(df2, y_test)*100) +' %')"
   ]
  },
  {
   "cell_type": "code",
   "execution_count": null,
   "metadata": {},
   "outputs": [],
   "source": []
  }
 ],
 "metadata": {
  "kernelspec": {
   "display_name": "Python 3",
   "language": "python",
   "name": "python3"
  },
  "language_info": {
   "codemirror_mode": {
    "name": "ipython",
    "version": 3
   },
   "file_extension": ".py",
   "mimetype": "text/x-python",
   "name": "python",
   "nbconvert_exporter": "python",
   "pygments_lexer": "ipython3",
   "version": "3.8.5"
  }
 },
 "nbformat": 4,
 "nbformat_minor": 4
}
