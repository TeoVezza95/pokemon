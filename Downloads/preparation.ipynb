{
 "cells": [
  {
   "cell_type": "code",
   "execution_count": 14,
   "metadata": {},
   "outputs": [
    {
     "name": "stdout",
     "output_type": "stream",
     "text": [
      "\u001b[33mWARNING: The directory '/Users/teo/Library/Caches/pip' or its parent directory is not owned or is not writable by the current user. The cache has been disabled. Check the permissions and owner of that directory. If executing pip with sudo, you may want sudo's -H flag.\u001b[0m\n",
      "Requirement already satisfied: scikit-learn in /Users/teo/anaconda3/lib/python3.8/site-packages (0.24.2)\n",
      "Requirement already satisfied: joblib>=0.11 in /Users/teo/anaconda3/lib/python3.8/site-packages (from scikit-learn) (0.17.0)\n",
      "Requirement already satisfied: numpy>=1.13.3 in /Users/teo/anaconda3/lib/python3.8/site-packages (from scikit-learn) (1.19.2)\n",
      "Requirement already satisfied: threadpoolctl>=2.0.0 in /Users/teo/anaconda3/lib/python3.8/site-packages (from scikit-learn) (2.1.0)\n",
      "Requirement already satisfied: scipy>=0.19.1 in /Users/teo/anaconda3/lib/python3.8/site-packages (from scikit-learn) (1.5.2)\n",
      "\u001b[33mWARNING: The directory '/Users/teo/Library/Caches/pip' or its parent directory is not owned or is not writable by the current user. The cache has been disabled. Check the permissions and owner of that directory. If executing pip with sudo, you may want sudo's -H flag.\u001b[0m\n",
      "Requirement already satisfied: pandas in /Users/teo/anaconda3/lib/python3.8/site-packages (1.1.3)\n",
      "Requirement already satisfied: numpy>=1.15.4 in /Users/teo/anaconda3/lib/python3.8/site-packages (from pandas) (1.19.2)\n",
      "Requirement already satisfied: python-dateutil>=2.7.3 in /Users/teo/anaconda3/lib/python3.8/site-packages (from pandas) (2.8.1)\n",
      "Requirement already satisfied: pytz>=2017.2 in /Users/teo/anaconda3/lib/python3.8/site-packages (from pandas) (2020.1)\n",
      "Requirement already satisfied: six>=1.5 in /Users/teo/anaconda3/lib/python3.8/site-packages (from python-dateutil>=2.7.3->pandas) (1.15.0)\n"
     ]
    }
   ],
   "source": [
    "!pip install scikit-learn\n",
    "!pip install pandas"
   ]
  },
  {
   "cell_type": "code",
   "execution_count": 15,
   "metadata": {},
   "outputs": [],
   "source": [
    "import pandas as pd\n",
    "from sklearn.model_selection import train_test_split"
   ]
  },
  {
   "cell_type": "code",
   "execution_count": 17,
   "metadata": {},
   "outputs": [],
   "source": [
    "#utilizziamo il lettore di csv di pandas per prendere il nostro dataset\n",
    "file=pd.read_csv('Telco-Customer-Churn.partial.csv')\n",
    "#dobbiamo fare diversi adattamenti per permettere al file di essere elaborato nel notebook di training\n",
    "for column in file.columns:\n",
    "    if column=='customerID':continue\n",
    "    if file[column].dtypes=='object':\n",
    "        #trasformare totalcharges in onehot non serve a molto per questo lo trasformiamo in float eliminando eventuali nan\n",
    "        if column=='TotalCharges':\n",
    "            file[column]=pd.to_numeric(file[column], errors='coerce').fillna(0, downcast='infer')\n",
    "            continue\n",
    "        y=file[column]\n",
    "        X= file.drop(column, 1)\n",
    "        y = pd.get_dummies(pd.Series(data=y)).to_numpy().tolist()\n",
    "        #abbiamo trasformato tutte le colonne di tipo oggetto in un onehot che viene aggiunto al dataframe(dopo averle cancellato la colonna oggetto)\n",
    "        file = pd.DataFrame(data = X, columns =X.columns)\n",
    "        file[column] = pd.Series(y)\n",
    "    #trasformiamo gli int in float\n",
    "    elif file[column].dtypes=='int64':\n",
    "        file[column]=file[column].astype('float64')\n",
    "#splittiamo tramite l'apposita funzione, mischiando i dati per evitare una qualche tipo di sequenzialità\n",
    "train,test=train_test_split(file,test_size=0.33,shuffle=True)\n",
    "train.reset_index(drop=True, inplace=True)\n",
    "test.reset_index(drop=True, inplace=True)\n",
    "#scriviamo su disco\n",
    "train.to_csv('train.csv')\n",
    "test.to_csv('test.csv')"
   ]
  },
  {
   "cell_type": "code",
   "execution_count": null,
   "metadata": {},
   "outputs": [],
   "source": []
  },
  {
   "cell_type": "code",
   "execution_count": null,
   "metadata": {},
   "outputs": [],
   "source": []
  }
 ],
 "metadata": {
  "kernelspec": {
   "display_name": "Python 3",
   "language": "python",
   "name": "python3"
  },
  "language_info": {
   "codemirror_mode": {
    "name": "ipython",
    "version": 3
   },
   "file_extension": ".py",
   "mimetype": "text/x-python",
   "name": "python",
   "nbconvert_exporter": "python",
   "pygments_lexer": "ipython3",
   "version": "3.8.5"
  }
 },
 "nbformat": 4,
 "nbformat_minor": 4
}
